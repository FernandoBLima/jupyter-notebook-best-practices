{
 "cells": [
  {
   "cell_type": "markdown",
   "metadata": {},
   "source": [
    "pip install papermill\n",
    "\n",
    "\n",
    "conda install -c conda-forge papermill "
   ]
  },
  {
   "cell_type": "code",
   "execution_count": 4,
   "metadata": {},
   "outputs": [
    {
     "data": {
      "application/vnd.jupyter.widget-view+json": {
       "model_id": "8fa8c5d90fce408d832612a904f768b6",
       "version_major": 2,
       "version_minor": 0
      },
      "text/plain": [
       "HBox(children=(FloatProgress(value=0.0, description='Executing', max=6.0, style=ProgressStyle(description_widt…"
      ]
     },
     "metadata": {},
     "output_type": "display_data"
    },
    {
     "name": "stdout",
     "output_type": "stream",
     "text": [
      "\n"
     ]
    },
    {
     "data": {
      "application/vnd.jupyter.widget-view+json": {
       "model_id": "5e441bdb11514b51bcb9ed32f5d73280",
       "version_major": 2,
       "version_minor": 0
      },
      "text/plain": [
       "HBox(children=(FloatProgress(value=0.0, description='Executing', max=6.0, style=ProgressStyle(description_widt…"
      ]
     },
     "metadata": {},
     "output_type": "display_data"
    },
    {
     "name": "stdout",
     "output_type": "stream",
     "text": [
      "\n"
     ]
    },
    {
     "data": {
      "text/plain": [
       "{'cells': [{'cell_type': 'code',\n",
       "   'execution_count': 1,\n",
       "   'metadata': {'tags': ['parameters'],\n",
       "    'papermill': {'exception': False,\n",
       "     'start_time': '2020-08-13T00:39:49.300554',\n",
       "     'end_time': '2020-08-13T00:39:49.314730',\n",
       "     'duration': 0.014176,\n",
       "     'status': 'completed'},\n",
       "    'execution': {'iopub.status.busy': '2020-08-13T00:39:49.311667Z',\n",
       "     'iopub.execute_input': '2020-08-13T00:39:49.312359Z',\n",
       "     'iopub.status.idle': '2020-08-13T00:39:49.313848Z',\n",
       "     'shell.execute_reply': '2020-08-13T00:39:49.314555Z'}},\n",
       "   'outputs': [],\n",
       "   'source': '# parameters\\na = 1'},\n",
       "  {'cell_type': 'code',\n",
       "   'metadata': {'tags': ['injected-parameters'],\n",
       "    'papermill': {'exception': False,\n",
       "     'start_time': '2020-08-13T00:39:49.319987',\n",
       "     'end_time': '2020-08-13T00:39:49.329354',\n",
       "     'duration': 0.009367,\n",
       "     'status': 'completed'},\n",
       "    'execution': {'iopub.status.busy': '2020-08-13T00:39:49.326688Z',\n",
       "     'iopub.execute_input': '2020-08-13T00:39:49.327438Z',\n",
       "     'iopub.status.idle': '2020-08-13T00:39:49.328527Z',\n",
       "     'shell.execute_reply': '2020-08-13T00:39:49.329211Z'}},\n",
       "   'execution_count': 2,\n",
       "   'source': '# Parameters\\na = 100\\n',\n",
       "   'outputs': []},\n",
       "  {'cell_type': 'code',\n",
       "   'execution_count': 3,\n",
       "   'metadata': {'tags': [],\n",
       "    'papermill': {'exception': False,\n",
       "     'start_time': '2020-08-13T00:39:49.333176',\n",
       "     'end_time': '2020-08-13T00:39:49.341597',\n",
       "     'duration': 0.008421,\n",
       "     'status': 'completed'},\n",
       "    'execution': {'iopub.status.busy': '2020-08-13T00:39:49.339363Z',\n",
       "     'iopub.execute_input': '2020-08-13T00:39:49.339981Z',\n",
       "     'iopub.status.idle': '2020-08-13T00:39:49.340938Z',\n",
       "     'shell.execute_reply': '2020-08-13T00:39:49.341475Z'}},\n",
       "   'outputs': [],\n",
       "   'source': 'twice = a * 2'},\n",
       "  {'cell_type': 'code',\n",
       "   'execution_count': 4,\n",
       "   'metadata': {'tags': [],\n",
       "    'papermill': {'exception': False,\n",
       "     'start_time': '2020-08-13T00:39:49.344919',\n",
       "     'end_time': '2020-08-13T00:39:49.352942',\n",
       "     'duration': 0.008023,\n",
       "     'status': 'completed'},\n",
       "    'execution': {'iopub.status.busy': '2020-08-13T00:39:49.350380Z',\n",
       "     'iopub.execute_input': '2020-08-13T00:39:49.350873Z',\n",
       "     'iopub.status.idle': '2020-08-13T00:39:49.352192Z',\n",
       "     'shell.execute_reply': '2020-08-13T00:39:49.352803Z'}},\n",
       "   'outputs': [{'output_type': 'stream', 'name': 'stdout', 'text': '100\\n'}],\n",
       "   'source': 'print(a)'},\n",
       "  {'cell_type': 'code',\n",
       "   'execution_count': 5,\n",
       "   'metadata': {'tags': [],\n",
       "    'papermill': {'exception': False,\n",
       "     'start_time': '2020-08-13T00:39:49.356790',\n",
       "     'end_time': '2020-08-13T00:39:49.365583',\n",
       "     'duration': 0.008793,\n",
       "     'status': 'completed'},\n",
       "    'execution': {'iopub.status.busy': '2020-08-13T00:39:49.363109Z',\n",
       "     'iopub.execute_input': '2020-08-13T00:39:49.363626Z',\n",
       "     'iopub.status.idle': '2020-08-13T00:39:49.364988Z',\n",
       "     'shell.execute_reply': '2020-08-13T00:39:49.365473Z'}},\n",
       "   'outputs': [{'output_type': 'stream', 'name': 'stdout', 'text': '200\\n'}],\n",
       "   'source': 'print(twice)'},\n",
       "  {'cell_type': 'code',\n",
       "   'execution_count': None,\n",
       "   'metadata': {'tags': [],\n",
       "    'papermill': {'exception': False,\n",
       "     'start_time': '2020-08-13T00:39:49.369118',\n",
       "     'end_time': '2020-08-13T00:39:49.372425',\n",
       "     'duration': 0.003307,\n",
       "     'status': 'completed'}},\n",
       "   'outputs': [],\n",
       "   'source': ''}],\n",
       " 'metadata': {'kernelspec': {'display_name': 'Python 3',\n",
       "   'language': 'python',\n",
       "   'name': 'python3'},\n",
       "  'language_info': {'name': 'python',\n",
       "   'version': '3.8.3',\n",
       "   'mimetype': 'text/x-python',\n",
       "   'codemirror_mode': {'name': 'ipython', 'version': 3},\n",
       "   'pygments_lexer': 'ipython3',\n",
       "   'nbconvert_exporter': 'python',\n",
       "   'file_extension': '.py'},\n",
       "  'papermill': {'parameters': {'a': 100},\n",
       "   'environment_variables': {},\n",
       "   'version': '2.1.2',\n",
       "   'input_path': 'input.ipynb',\n",
       "   'output_path': 'output2.ipynb',\n",
       "   'start_time': '2020-08-13T00:39:48.627896',\n",
       "   'end_time': '2020-08-13T00:39:49.597996',\n",
       "   'duration': 0.9701,\n",
       "   'exception': None}},\n",
       " 'nbformat': 4,\n",
       " 'nbformat_minor': 4}"
      ]
     },
     "execution_count": 4,
     "metadata": {},
     "output_type": "execute_result"
    }
   ],
   "source": [
    "import papermill as pm\n",
    "\n",
    "pm.execute_notebook(\n",
    "   'input.ipynb',\n",
    "   'output1.ipynb',\n",
    "   parameters = dict(a=9)\n",
    ")\n",
    "\n",
    "pm.execute_notebook(\n",
    "   'input.ipynb',\n",
    "   'output2.ipynb',\n",
    "   parameters = dict(a=100)\n",
    ")"
   ]
  },
  {
   "cell_type": "code",
   "execution_count": null,
   "metadata": {},
   "outputs": [],
   "source": []
  }
 ],
 "metadata": {
  "kernelspec": {
   "display_name": "Python 3",
   "language": "python",
   "name": "python3"
  },
  "language_info": {
   "codemirror_mode": {
    "name": "ipython",
    "version": 3
   },
   "file_extension": ".py",
   "mimetype": "text/x-python",
   "name": "python",
   "nbconvert_exporter": "python",
   "pygments_lexer": "ipython3",
   "version": "3.8.3"
  }
 },
 "nbformat": 4,
 "nbformat_minor": 4
}
